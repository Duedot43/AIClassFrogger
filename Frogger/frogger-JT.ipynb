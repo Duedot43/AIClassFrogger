{
 "cells": [
  {
   "cell_type": "code",
   "execution_count": 25,
   "metadata": {},
   "outputs": [],
   "source": [
    "import pandas as pd\n",
    "import gymnasium as gym\n",
    "import os\n",
    "from ale_py import ALEInterface, roms\n",
    "import time\n",
    "import numpy as np\n",
    "import numpy as np\n",
    "import matplotlib.pyplot as plt\n",
    "import cv2\n",
    "import tensorflow as tf\n",
    "from tensorflow import keras\n",
    "from keras.models import Sequential\n",
    "from keras.layers import Conv2D, Flatten, Dense\n",
    "from keras.optimizers import Adam\n",
    "import random\n",
    "from collections import deque\n",
    "from keras import Input"
   ]
  },
  {
   "cell_type": "code",
   "execution_count": 2,
   "metadata": {},
   "outputs": [
    {
     "ename": "NameError",
     "evalue": "name 'gym' is not defined",
     "output_type": "error",
     "traceback": [
      "\u001b[1;31m---------------------------------------------------------------------------\u001b[0m",
      "\u001b[1;31mNameError\u001b[0m                                 Traceback (most recent call last)",
      "\u001b[1;32m~\\AppData\\Local\\Temp\\ipykernel_22864\\3789930388.py\u001b[0m in \u001b[0;36m<module>\u001b[1;34m\u001b[0m\n\u001b[1;32m----> 1\u001b[1;33m \u001b[0menv\u001b[0m \u001b[1;33m=\u001b[0m \u001b[0mgym\u001b[0m\u001b[1;33m.\u001b[0m\u001b[0mmake\u001b[0m\u001b[1;33m(\u001b[0m\u001b[1;34m\"ALE/Frogger-v5\"\u001b[0m\u001b[1;33m,\u001b[0m \u001b[0mrender_mode\u001b[0m\u001b[1;33m=\u001b[0m\u001b[1;34m'human'\u001b[0m\u001b[1;33m)\u001b[0m\u001b[1;33m\u001b[0m\u001b[1;33m\u001b[0m\u001b[0m\n\u001b[0m\u001b[0;32m      2\u001b[0m \u001b[1;33m\u001b[0m\u001b[0m\n\u001b[0;32m      3\u001b[0m \u001b[0minitial_state\u001b[0m \u001b[1;33m=\u001b[0m \u001b[0menv\u001b[0m\u001b[1;33m.\u001b[0m\u001b[0mreset\u001b[0m\u001b[1;33m(\u001b[0m\u001b[1;33m)\u001b[0m\u001b[1;33m\u001b[0m\u001b[1;33m\u001b[0m\u001b[0m\n\u001b[0;32m      4\u001b[0m \u001b[1;32mwhile\u001b[0m \u001b[1;32mTrue\u001b[0m\u001b[1;33m:\u001b[0m\u001b[1;33m\u001b[0m\u001b[1;33m\u001b[0m\u001b[0m\n\u001b[0;32m      5\u001b[0m     \u001b[0menv\u001b[0m\u001b[1;33m.\u001b[0m\u001b[0mrender\u001b[0m\u001b[1;33m(\u001b[0m\u001b[1;33m)\u001b[0m\u001b[1;33m\u001b[0m\u001b[1;33m\u001b[0m\u001b[0m\n",
      "\u001b[1;31mNameError\u001b[0m: name 'gym' is not defined"
     ]
    }
   ],
   "source": [
    "\n",
    "env = gym.make(\"ALE/Frogger-v5\", render_mode='human')\n",
    "\n",
    "initial_state = env.reset()\n",
    "while True:\n",
    "    env.render()\n",
    "\n",
    "\n",
    "    # Take a step (0: LEFT, 1: DOWN, 2: RIGHT, 3: UP)\n",
    "    action = env.action_space.sample()\n",
    "    new_state, reward, terminated, truncated, info = env.step(action)\n",
    "    print(action)\n",
    "\n",
    "    env.render()\n",
    "\n",
    "time.sleep(5)\n",
    "\n",
    "env.reset()\n",
    "env.close()"
   ]
  },
  {
   "cell_type": "code",
   "execution_count": 7,
   "metadata": {},
   "outputs": [],
   "source": [
    "env = gym.make(\"ALE/Frogger-v5\", render_mode='rgb_array')\n",
    "initial_state = env.reset()"
   ]
  },
  {
   "cell_type": "code",
   "execution_count": 8,
   "metadata": {},
   "outputs": [],
   "source": [
    "screenshot=env.render()"
   ]
  },
  {
   "cell_type": "code",
   "execution_count": 9,
   "metadata": {},
   "outputs": [
    {
     "data": {
      "image/png": "[encoded data removed]",
      "text/plain": [
       "<Figure size 640x480 with 1 Axes>"
      ]
     },
     "metadata": {},
     "output_type": "display_data"
    }
   ],
   "source": [
    "plt.imshow(screenshot)\n",
    "plt.axis(\"off\")\n",
    "plt.show()"
   ]
  },
  {
   "cell_type": "code",
   "execution_count": 29,
   "metadata": {},
   "outputs": [],
   "source": [
    "def gary(image):\n",
    "    gar=cv2.cvtColor(image,cv2.COLOR_RGB2GRAY)\n",
    "    crap=gar[12:-30, 7:-7]\n",
    "    resized = cv2.resize(crap, (84, 84), interpolation=cv2.INTER_AREA)\n",
    "    return resized "
   ]
  },
  {
   "cell_type": "code",
   "execution_count": 30,
   "metadata": {
    "scrolled": true
   },
   "outputs": [],
   "source": [
    "pros=gary(screenshot)"
   ]
  },
  {
   "cell_type": "code",
   "execution_count": 31,
   "metadata": {},
   "outputs": [
    {
     "data": {
      "image/png": "[encoded data removed]",
      "text/plain": [
       "<Figure size 640x480 with 1 Axes>"
      ]
     },
     "metadata": {},
     "output_type": "display_data"
    }
   ],
   "source": [
    "plt.imshow(pros,cmap='gray')\n",
    "plt.axis(\"off\")\n",
    "plt.show()"
   ]
  },
  {
   "cell_type": "code",
   "execution_count": 32,
   "metadata": {},
   "outputs": [],
   "source": [
    "def modl(input_shape, num_actions):\n",
    "    model = Sequential([\n",
    "        Conv2D(32, (8, 8), strides=(4, 4), activation='relu', input_shape=input_shape),\n",
    "        Conv2D(64, (4, 4), strides=(2, 2), activation='relu'),\n",
    "        Conv2D(64, (3, 3), strides=(1, 1), activation='relu'),\n",
    "        Flatten(),\n",
    "        Dense(512, activation='relu'),\n",
    "        Dense(num_actions, activation='linear')\n",
    "    ])\n",
    "    model.compile(optimizer=Adam(learning_rate=1e-4), loss='mse')\n",
    "    return model"
   ]
  },
  {
   "cell_type": "code",
   "execution_count": 33,
   "metadata": {},
   "outputs": [],
   "source": [
    "class DQNAgent:\n",
    "    def __init__(self, action_size):\n",
    "        self.memory = deque(maxlen=100000)\n",
    "        self.action_size = action_size\n",
    "        self.model = modl((84, 84, 1), action_size)\n",
    "        self.gamma = 0.99\n",
    "        self.epsilon = 1.0\n",
    "        self.epsilon_min = 0.1\n",
    "        self.epsilon_decay = 0.995\n",
    "    def act(self, state):\n",
    "        if np.random.rand() <= self.epsilon:\n",
    "            return random.randrange(self.action_size)\n",
    "        q_values = self.model.predict(state[np.newaxis, :, :, np.newaxis], verbose=0)\n",
    "        return np.argmax(q_values[0])\n",
    "    def remember(self, state, action, reward, next_state, done):\n",
    "        self.memory.append((state, action, reward, next_state, done))\n",
    "    def replay(self, batch_size=32):\n",
    "        minibatch = random.sample(self.memory, batch_size)\n",
    "        for state, action, reward, next_state, done in minibatch:\n",
    "            target = reward\n",
    "            if not done:\n",
    "                next_q = np.max(self.model.predict(next_state[np.newaxis, :, :, np.newaxis], verbose=0)[0])\n",
    "                target = reward + self.gamma * next_q\n",
    "            q_values = self.model.predict(state[np.newaxis, :, :, np.newaxis], verbose=0)\n",
    "            q_values[0][action] = target\n",
    "            self.model.fit(state[np.newaxis, :, :, np.newaxis], q_values, epochs=1, verbose=0)\n",
    "        if self.epsilon > self.epsilon_min:\n",
    "            self.epsilon *= self.epsilon_decay"
   ]
  },
  {
   "cell_type": "code",
   "execution_count": null,
   "metadata": {
    "scrolled": true
   },
   "outputs": [
    {
     "name": "stdout",
     "output_type": "stream",
     "text": [
      "Episode 1: 10.0\n",
      "Episode 2: 7.0\n",
      "Episode 3: 10.0\n",
      "Episode 4: 11.0\n",
      "Episode 5: 13.0\n",
      "Episode 6: 10.0\n",
      "Episode 7: 11.0\n",
      "Episode 8: 8.0\n",
      "Episode 9: 10.0\n",
      "Episode 10: 13.0\n",
      "Episode 11: 9.0\n",
      "Episode 12: 7.0\n",
      "Episode 13: 9.0\n",
      "Episode 14: 13.0\n",
      "Episode 15: 8.0\n",
      "Episode 16: 13.0\n",
      "Episode 17: 14.0\n",
      "Episode 18: 13.0\n",
      "Episode 19: 9.0\n",
      "Episode 20: 11.0\n",
      "Episode 21: 10.0\n",
      "Episode 22: 10.0\n",
      "Episode 23: 6.0\n",
      "Episode 24: 13.0\n",
      "Episode 25: 7.0\n",
      "Episode 26: 10.0\n",
      "Episode 27: 12.0\n",
      "Episode 28: 8.0\n",
      "Episode 29: 8.0\n",
      "Episode 30: 14.0\n",
      "Episode 31: 9.0\n",
      "Episode 32: 5.0\n",
      "Episode 33: 8.0\n",
      "Episode 34: 8.0\n",
      "Episode 35: 8.0\n",
      "Episode 36: 10.0\n",
      "Episode 37: 10.0\n",
      "Episode 38: 8.0\n",
      "Episode 39: 7.0\n",
      "Episode 40: 10.0\n",
      "Episode 41: 9.0\n",
      "Episode 42: 19.0\n",
      "Episode 43: 7.0\n",
      "Episode 44: 10.0\n",
      "Episode 45: 9.0\n",
      "Episode 46: 8.0\n",
      "Episode 47: 8.0\n",
      "Episode 48: 10.0\n",
      "Episode 49: 9.0\n",
      "Episode 50: 8.0\n",
      "Episode 51: 6.0\n",
      "Episode 52: 8.0\n",
      "Episode 53: 8.0\n",
      "Episode 54: 9.0\n",
      "Episode 55: 7.0\n",
      "Episode 56: 7.0\n",
      "Episode 57: 7.0\n",
      "Episode 58: 13.0\n",
      "Episode 59: 12.0\n",
      "Episode 60: 6.0\n",
      "Episode 61: 9.0\n",
      "Episode 62: 9.0\n",
      "Episode 63: 8.0\n",
      "Episode 64: 11.0\n",
      "Episode 65: 7.0\n",
      "Episode 66: 8.0\n",
      "Episode 67: 9.0\n",
      "Episode 68: 8.0\n",
      "Episode 69: 6.0\n",
      "Episode 70: 7.0\n",
      "Episode 71: 8.0\n",
      "Episode 72: 7.0\n",
      "Episode 73: 7.0\n",
      "Episode 74: 12.0\n",
      "Episode 75: 12.0\n",
      "Episode 76: 11.0\n",
      "Episode 77: 10.0\n",
      "Episode 78: 14.0\n",
      "Episode 79: 9.0\n",
      "Episode 80: 9.0\n",
      "Episode 81: 8.0\n",
      "Episode 82: 9.0\n",
      "Episode 83: 6.0\n",
      "Episode 84: 6.0\n",
      "Episode 85: 8.0\n",
      "Episode 86: 8.0\n",
      "Episode 87: 12.0\n",
      "Episode 88: 5.0\n",
      "Episode 89: 5.0\n",
      "Episode 90: 6.0\n",
      "Episode 91: 7.0\n",
      "Episode 92: 10.0\n",
      "Episode 93: 9.0\n",
      "Episode 94: 15.0\n",
      "Episode 95: 8.0\n",
      "Episode 96: 7.0\n",
      "Episode 97: 11.0\n",
      "Episode 98: 9.0\n",
      "Episode 99: 5.0\n",
      "Episode 100: 13.0\n",
      "Episode 101: 10.0\n",
      "Episode 102: 7.0\n",
      "Episode 103: 8.0\n",
      "Episode 104: 7.0\n",
      "Episode 105: 10.0\n",
      "Episode 106: 12.0\n",
      "Episode 107: 6.0\n",
      "Episode 108: 8.0\n",
      "Episode 109: 6.0\n",
      "Episode 110: 9.0\n",
      "Episode 111: 10.0\n",
      "Episode 112: 10.0\n",
      "Episode 113: 9.0\n",
      "Episode 114: 11.0\n",
      "Episode 115: 11.0\n",
      "Episode 116: 7.0\n",
      "Episode 117: 11.0\n",
      "Episode 118: 7.0\n",
      "Episode 119: 7.0\n",
      "Episode 120: 10.0\n",
      "Episode 121: 15.0\n",
      "Episode 122: 6.0\n",
      "Episode 123: 6.0\n",
      "Episode 124: 5.0\n",
      "Episode 125: 9.0\n",
      "Episode 126: 7.0\n",
      "Episode 127: 8.0\n",
      "Episode 128: 7.0\n",
      "Episode 129: 11.0\n",
      "Episode 130: 8.0\n",
      "Episode 131: 8.0\n",
      "Episode 132: 8.0\n",
      "Episode 133: 6.0\n",
      "Episode 134: 6.0\n",
      "Episode 135: 9.0\n",
      "Episode 136: 6.0\n",
      "Episode 137: 6.0\n",
      "Episode 138: 7.0\n",
      "Episode 139: 10.0\n",
      "Episode 140: 7.0\n",
      "Episode 141: 6.0\n",
      "Episode 142: 9.0\n",
      "Episode 143: 5.0\n",
      "Episode 144: 10.0\n",
      "Episode 145: 9.0\n",
      "Episode 146: 11.0\n",
      "Episode 147: 11.0\n",
      "Episode 148: 8.0\n",
      "Episode 149: 7.0\n",
      "Episode 150: 7.0\n",
      "Episode 151: 8.0\n",
      "Episode 152: 9.0\n",
      "Episode 153: 7.0\n",
      "Episode 154: 5.0\n",
      "Episode 155: 9.0\n",
      "Episode 156: 6.0\n",
      "Episode 157: 6.0\n",
      "Episode 158: 7.0\n",
      "Episode 159: 10.0\n",
      "Episode 160: 10.0\n",
      "Episode 161: 7.0\n",
      "Episode 162: 12.0\n",
      "Episode 163: 9.0\n",
      "Episode 164: 12.0\n",
      "Episode 165: 7.0\n",
      "Episode 166: 5.0\n",
      "Episode 167: 8.0\n",
      "Episode 168: 8.0\n",
      "Episode 169: 8.0\n",
      "Episode 170: 10.0\n",
      "Episode 171: 16.0\n",
      "Episode 172: 9.0\n",
      "Episode 173: 10.0\n",
      "Episode 174: 10.0\n",
      "Episode 175: 10.0\n",
      "Episode 176: 11.0\n",
      "Episode 177: 11.0\n",
      "Episode 178: 8.0\n",
      "Episode 179: 8.0\n",
      "Episode 180: 8.0\n",
      "Episode 181: 11.0\n",
      "Episode 182: 5.0\n",
      "Episode 183: 8.0\n",
      "Episode 184: 8.0\n",
      "Episode 185: 6.0\n",
      "Episode 186: 8.0\n",
      "Episode 187: 12.0\n",
      "Episode 188: 8.0\n",
      "Episode 189: 9.0\n",
      "Episode 190: 8.0\n",
      "Episode 191: 9.0\n",
      "Episode 192: 6.0\n",
      "Episode 193: 13.0\n",
      "Episode 194: 6.0\n",
      "Episode 195: 6.0\n",
      "Episode 196: 7.0\n",
      "Episode 197: 5.0\n",
      "Episode 198: 16.0\n",
      "Episode 199: 10.0\n"
     ]
    }
   ],
   "source": [
    "env = gym.make(\"ALE/Frogger-v5\", render_mode='rgb_array')\n",
    "agent = DQNAgent(env.action_space.n)\n",
    "bf=[]\n",
    "br=0\n",
    "be=0\n",
    "episodes = 3000\n",
    "for e in range(episodes):\n",
    "    obs, _ = env.reset()\n",
    "    env.step(env.action_space.sample())\n",
    "    frame = screenshot\n",
    "    state = pros\n",
    "    total_reward = 0\n",
    "    done = False\n",
    "    fram=[]\n",
    "    while not done:\n",
    "        action = agent.act(state)\n",
    "        obs, reward, terminated, truncated, _ = env.step(action)\n",
    "        done = terminated or truncated\n",
    "        fram.append(env.render())\n",
    "        next_state = pros\n",
    "        fram.append(screenshot)\n",
    "        agent.remember(state, action, reward, next_state, done)\n",
    "        state = next_state\n",
    "        total_reward += reward\n",
    "        if done:\n",
    "            print(f\"Episode {e+1}: {total_reward}\")\n",
    "            if total_reward>br:\n",
    "                br=total_reward\n",
    "                bf=fram\n",
    "            break\n",
    "    if len(agent.memory) > 1000:\n",
    "        agent.replay(32)\n",
    "env.close()"
   ]
  },
  {
   "cell_type": "code",
   "execution_count": 64,
   "metadata": {},
   "outputs": [
    {
     "name": "stderr",
     "output_type": "stream",
     "text": [
      "WARNING:absl:You are saving your model as an HDF5 file via `model.save()` or `keras.saving.save_model(model)`. This file format is considered legacy. We recommend using instead the native Keras format, e.g. `model.save('my_model.keras')` or `keras.saving.save_model(model, 'my_model.keras')`. \n"
     ]
    }
   ],
   "source": [
    "agent.model.save(\"model.h5\")"
   ]
  },
  {
   "cell_type": "code",
   "execution_count": null,
   "metadata": {},
   "outputs": [],
   "source": [
    "env = gym.make(\"ALE/Frogger-v5\", render_mode='human')\n",
    "agent = DQNAgent(env.action_space.n)\n",
    "agent.model.load_weights(\"model.h5\")\n",
    "obs, _ = env.reset()\n",
    "env.step(env.action_space.sample())\n",
    "frame = screenshot\n",
    "state = pros\n",
    "done = False\n",
    "total_reward = 0\n",
    "while not done:\n",
    "    action = agent.act(state)\n",
    "    obs, reward, terminated, truncated, _ = env.step(action)\n",
    "    done = terminated or truncated\n",
    "    state = pros\n",
    "    total_reward += reward\n",
    "    frame\n",
    "print(f\"score: {total_reward}\")\n",
    "env.close()\n"
   ]
  },
  {
   "cell_type": "code",
   "execution_count": 66,
   "metadata": {},
   "outputs": [],
   "source": [
    "env.close()"
   ]
  },
  {
   "cell_type": "code",
   "execution_count": null,
   "metadata": {},
   "outputs": [],
   "source": []
  }
 ],
 "metadata": {
  "kernelspec": {
   "display_name": "Python 3 (ipykernel)",
   "language": "python",
   "name": "python3"
  },
  "language_info": {
   "codemirror_mode": {
    "name": "ipython",
    "version": 3
   },
   "file_extension": ".py",
   "mimetype": "text/x-python",
   "name": "python",
   "nbconvert_exporter": "python",
   "pygments_lexer": "ipython3",
   "version": "3.9.13"
  }
 },
 "nbformat": 4,
 "nbformat_minor": 2
}
