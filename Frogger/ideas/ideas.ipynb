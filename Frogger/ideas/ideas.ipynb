{
 "cells": [
  {
   "cell_type": "markdown",
   "metadata": {},
   "source": [
    "# This is ideas\n",
    "The very lower car takes 4 frames to move 1 pixel\n",
    "The car has to enter the frogs cell for the frog to be killed"
   ]
  }
 ],
 "metadata": {
  "language_info": {
   "name": "python"
  }
 },
 "nbformat": 4,
 "nbformat_minor": 2
}
