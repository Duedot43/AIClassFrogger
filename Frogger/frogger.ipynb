{
 "cells": [
  {
   "cell_type": "code",
   "execution_count": null,
   "metadata": {},
   "outputs": [
    {
     "name": "stdout",
     "output_type": "stream",
     "text": [
      "0\n",
      "3\n",
      "4\n",
      "3\n",
      "2\n",
      "1\n",
      "3\n",
      "3\n",
      "0\n",
      "0\n",
      "4\n",
      "3\n",
      "4\n",
      "4\n",
      "2\n",
      "2\n",
      "1\n",
      "4\n",
      "2\n",
      "3\n",
      "0\n",
      "0\n",
      "3\n",
      "0\n",
      "4\n",
      "4\n",
      "3\n",
      "3\n",
      "2\n",
      "2\n",
      "1\n",
      "1\n",
      "3\n",
      "1\n",
      "1\n",
      "2\n",
      "2\n",
      "2\n",
      "2\n",
      "2\n",
      "0\n",
      "4\n",
      "3\n",
      "2\n",
      "0\n",
      "2\n"
     ]
    }
   ],
   "source": [
    "import pandas as pd\n",
    "import gymnasium as gym\n",
    "import os\n",
    "from ale_py import ALEInterface, roms\n",
    "import time\n",
    "\n",
    "env = gym.make(\"ALE/Frogger-v5\", render_mode='human')\n",
    "\n",
    "initial_state = env.reset()\n",
    "while True:\n",
    "    render = env.render()\n",
    "\n",
    "\n",
    "    # Take a step (0: LEFT, 1: DOWN, 2: RIGHT, 3: UP)\n",
    "    action = env.action_space.sample()\n",
    "    new_state, reward, terminated, truncated, info = env.step(action)\n",
    "    print(action)\n",
    "\n",
    "    render = env.render()\n",
    "\n",
    "time.sleep(5)\n",
    "\n",
    "env.reset()\n",
    "env.close()"
   ]
  },
  {
   "cell_type": "code",
   "execution_count": null,
   "metadata": {},
   "outputs": [],
   "source": [
    "env.close()"
   ]
  }
 ],
 "metadata": {
  "kernelspec": {
   "display_name": ".venv",
   "language": "python",
   "name": "python3"
  },
  "language_info": {
   "codemirror_mode": {
    "name": "ipython",
    "version": 3
   },
   "file_extension": ".py",
   "mimetype": "text/x-python",
   "name": "python",
   "nbconvert_exporter": "python",
   "pygments_lexer": "ipython3",
   "version": "3.13.2"
  }
 },
 "nbformat": 4,
 "nbformat_minor": 2
}
