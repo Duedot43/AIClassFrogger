{
 "cells": [
  {
   "cell_type": "code",
   "execution_count": null,
   "metadata": {},
   "outputs": [],
   "source": [
    "import pandas as pd\n",
    "import gymnasium as gym\n",
    "import os\n",
    "from ale_py import ALEInterface, roms\n",
    "import time\n",
    "import numpy as np\n",
    "import numpy as np\n",
    "import matplotlib.pyplot as plt\n",
    "import cv2\n",
    "\n",
    "env = gym.make(\"ALE/Frogger-v5\", render_mode='rgb_array')\n",
    "\n",
    "\n",
    "def reduceFrame(frame): # Make frame B&W and slim it down to reduce compute time\n",
    "    gar=cv2.cvtColor(frame,cv2.COLOR_RGB2GRAY)\n",
    "    crap=gar[12:-30, 7:-7]\n",
    "    resized = cv2.resize(crap, (84, 110), interpolation=cv2.INTER_AREA)\n",
    "    return resized \n",
    "\n",
    "\n"
   ]
  }
 ],
 "metadata": {
  "kernelspec": {
   "display_name": ".venv",
   "language": "python",
   "name": "python3"
  },
  "language_info": {
   "codemirror_mode": {
    "name": "ipython",
    "version": 3
   },
   "file_extension": ".py",
   "mimetype": "text/x-python",
   "name": "python",
   "nbconvert_exporter": "python",
   "pygments_lexer": "ipython3",
   "version": "3.13.2"
  }
 },
 "nbformat": 4,
 "nbformat_minor": 2
}
